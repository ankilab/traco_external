{
 "cells": [
  {
   "cell_type": "code",
   "execution_count": 1,
   "id": "61e3a635",
   "metadata": {},
   "outputs": [],
   "source": [
    "from get_score import get_score\n",
    "from pathlib import Path"
   ]
  },
  {
   "cell_type": "code",
   "execution_count": 2,
   "id": "41719328",
   "metadata": {},
   "outputs": [],
   "source": [
    "gt_path = Path(\"leaderboard_data/\")\n",
    "pred_path = Path(\"predictions/\")\n",
    "\n",
    "files = [\"test001.csv\", \"test002.csv\", \"test003.csv\", \"test004.csv\", \"test005.csv\"]"
   ]
  },
  {
   "cell_type": "code",
   "execution_count": 3,
   "id": "0b281d26",
   "metadata": {},
   "outputs": [
    {
     "name": "stdout",
     "output_type": "stream",
     "text": [
      "File: test001.csv, Score: 204193.63077855695\n",
      "File: test002.csv, Score: 73714.47655895301\n",
      "File: test003.csv, Score: 334101.92665651423\n",
      "File: test004.csv, Score: 170039.15524436656\n",
      "File: test005.csv, Score: 162790.7241884292\n",
      "Overall score: 944839.9134268198\n"
     ]
    }
   ],
   "source": [
    "# Our predictions compared with the ground truth\n",
    "score = 0\n",
    "for file in files:\n",
    "    s = get_score(str(pred_path / file), str(gt_path / file), log=True)\n",
    "    print(f\"File: {file}, Score: {s}\")\n",
    "    score += s\n",
    "    \n",
    "print(f\"Overall score: {score}\")"
   ]
  },
  {
   "cell_type": "code",
   "execution_count": 4,
   "id": "6d4d804e",
   "metadata": {},
   "outputs": [
    {
     "name": "stdout",
     "output_type": "stream",
     "text": [
      "File: test001.csv, Score: 0.0\n",
      "File: test002.csv, Score: 0.0\n",
      "File: test003.csv, Score: 0.0\n",
      "File: test004.csv, Score: 0.0\n",
      "File: test005.csv, Score: 0.0\n",
      "Overall score: 0.0\n"
     ]
    }
   ],
   "source": [
    "# Ground truth files with themselves --> perfect score\n",
    "score = 0\n",
    "for file in files:\n",
    "    s = get_score(str(gt_path / file), str(gt_path / file), log=True)\n",
    "    print(f\"File: {file}, Score: {s}\")\n",
    "    score += s\n",
    "    \n",
    "print(f\"Overall score: {score}\")"
   ]
  }
 ],
 "metadata": {
  "kernelspec": {
   "display_name": "Python 3 (ipykernel)",
   "language": "python",
   "name": "python3"
  },
  "language_info": {
   "codemirror_mode": {
    "name": "ipython",
    "version": 3
   },
   "file_extension": ".py",
   "mimetype": "text/x-python",
   "name": "python",
   "nbconvert_exporter": "python",
   "pygments_lexer": "ipython3",
   "version": "3.9.7"
  }
 },
 "nbformat": 4,
 "nbformat_minor": 5
}
